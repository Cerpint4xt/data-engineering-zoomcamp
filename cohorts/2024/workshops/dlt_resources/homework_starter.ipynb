{
  "cells": [
    {
      "cell_type": "markdown",
      "metadata": {
        "id": "mrTFv5nPClXh"
      },
      "source": [
        "# **Homework**: Data talks club data engineering zoomcamp Data loading workshop\n",
        "\n",
        "Hello folks, let's practice what we learned - Loading data with the best practices of data engineering.\n",
        "\n",
        "Here are the exercises we will do\n",
        "\n",
        "\n"
      ]
    },
    {
      "cell_type": "markdown",
      "metadata": {
        "id": "wLF4iXf-NR7t"
      },
      "source": [
        "# 1. Use a generator\n",
        "\n",
        "Remember the concept of generator? Let's practice using them to futher our understanding of how they work.\n",
        "\n",
        "Let's define a generator and then run it as practice.\n",
        "\n",
        "**Answer the following questions:**\n",
        "\n",
        "- **Question 1: What is the sum of the outputs of the generator for limit = 5?**\n",
        "- **Question 2: What is the 13th number yielded**\n",
        "\n",
        "I suggest practicing these questions without GPT as the purpose is to further your learning."
      ]
    },
    {
      "cell_type": "code",
      "execution_count": 1,
      "metadata": {
        "colab": {
          "base_uri": "https://localhost:8080/"
        },
        "id": "wLng-bDJN4jf",
        "outputId": "547683cb-5f56-4815-a903-d0d9578eb1f9"
      },
      "outputs": [
        {
          "name": "stdout",
          "output_type": "stream",
          "text": [
            "1.0\n",
            "1.4142135623730951\n",
            "1.7320508075688772\n",
            "2.0\n",
            "2.23606797749979\n",
            "2.449489742783178\n",
            "2.6457513110645907\n",
            "2.8284271247461903\n",
            "3.0\n",
            "3.1622776601683795\n",
            "3.3166247903554\n",
            "3.4641016151377544\n",
            "3.605551275463989\n",
            "3.7416573867739413\n",
            "3.872983346207417\n",
            "4.0\n",
            "4.123105625617661\n",
            "4.242640687119285\n",
            "4.358898943540674\n",
            "4.47213595499958\n"
          ]
        }
      ],
      "source": [
        "def square_root_generator(limit):\n",
        "    n = 1\n",
        "    while n <= limit:\n",
        "        yield n ** 0.5\n",
        "        n += 1\n",
        "\n",
        "# Example usage:\n",
        "limit = 20\n",
        "generator = square_root_generator(limit)\n",
        "\n",
        "for sqrt_value in generator:\n",
        "    print(sqrt_value)\n"
      ]
    },
    {
      "cell_type": "code",
      "execution_count": 2,
      "metadata": {},
      "outputs": [
        {
          "data": {
            "text/plain": [
              "8.382332347441762"
            ]
          },
          "execution_count": 2,
          "metadata": {},
          "output_type": "execute_result"
        }
      ],
      "source": [
        "1.0 + 1.4142135623730951 + 1.7320508075688772 + 2.0 + 2.23606797749979"
      ]
    },
    {
      "cell_type": "markdown",
      "metadata": {
        "id": "vjWhILzGJMpK"
      },
      "source": [
        "# 2. Append a generator to a table with existing data\n",
        "\n",
        "\n",
        "Below you have 2 generators. You will be tasked to load them to duckdb and answer some questions from the data\n",
        "\n",
        "1. Load the first generator and calculate the sum of ages of all people. Make sure to only load it once.\n",
        "2. Append the second generator to the same table as the first.\n",
        "3. **After correctly appending the data, calculate the sum of all ages of people.**\n",
        "\n",
        "\n"
      ]
    },
    {
      "cell_type": "code",
      "execution_count": 3,
      "metadata": {
        "colab": {
          "base_uri": "https://localhost:8080/"
        },
        "id": "2MoaQcdLBEk6",
        "outputId": "d2b93dc1-d83f-44ea-aeff-fdf51d75f7aa"
      },
      "outputs": [
        {
          "name": "stdout",
          "output_type": "stream",
          "text": [
            "{'ID': 1, 'Name': 'Person_1', 'Age': 26, 'City': 'City_A'}\n",
            "{'ID': 2, 'Name': 'Person_2', 'Age': 27, 'City': 'City_A'}\n",
            "{'ID': 3, 'Name': 'Person_3', 'Age': 28, 'City': 'City_A'}\n",
            "{'ID': 4, 'Name': 'Person_4', 'Age': 29, 'City': 'City_A'}\n",
            "{'ID': 5, 'Name': 'Person_5', 'Age': 30, 'City': 'City_A'}\n",
            "{'ID': 3, 'Name': 'Person_3', 'Age': 33, 'City': 'City_B', 'Occupation': 'Job_3'}\n",
            "{'ID': 4, 'Name': 'Person_4', 'Age': 34, 'City': 'City_B', 'Occupation': 'Job_4'}\n",
            "{'ID': 5, 'Name': 'Person_5', 'Age': 35, 'City': 'City_B', 'Occupation': 'Job_5'}\n",
            "{'ID': 6, 'Name': 'Person_6', 'Age': 36, 'City': 'City_B', 'Occupation': 'Job_6'}\n",
            "{'ID': 7, 'Name': 'Person_7', 'Age': 37, 'City': 'City_B', 'Occupation': 'Job_7'}\n",
            "{'ID': 8, 'Name': 'Person_8', 'Age': 38, 'City': 'City_B', 'Occupation': 'Job_8'}\n"
          ]
        }
      ],
      "source": [
        "def people_1():\n",
        "    for i in range(1, 6):\n",
        "        yield {\"ID\": i, \"Name\": f\"Person_{i}\", \"Age\": 25 + i, \"City\": \"City_A\"}\n",
        "\n",
        "for person in people_1():\n",
        "    print(person)\n",
        "\n",
        "\n",
        "def people_2():\n",
        "    for i in range(3, 9):\n",
        "        yield {\"ID\": i, \"Name\": f\"Person_{i}\", \"Age\": 30 + i, \"City\": \"City_B\", \"Occupation\": f\"Job_{i}\"}\n",
        "\n",
        "\n",
        "for person in people_2():\n",
        "    print(person)\n"
      ]
    },
    {
      "cell_type": "code",
      "execution_count": 4,
      "metadata": {},
      "outputs": [
        {
          "name": "stdout",
          "output_type": "stream",
          "text": [
            "Pipeline dlt_ipykernel_launcher load step completed in 0.50 seconds\n",
            "1 load package(s) were loaded to destination duckdb and into dataset hw_generators\n",
            "The duckdb destination used duckdb:///c:\\Users\\rcata\\Desktop\\DataEngineeringZoomCamp\\data-engineering-zoomcamp\\cohorts\\2024\\workshops\\dlt_resources\\dlt_ipykernel_launcher.duckdb location to store data\n",
            "Load package 1708043939.941684 is LOADED and contains no failed jobs\n"
          ]
        }
      ],
      "source": [
        "import dlt \n",
        "\n",
        "hw_generator_pipeline = dlt.pipeline(destination='duckdb', dataset_name='hw_generators')\n",
        "\n",
        "info = hw_generator_pipeline.run(people_1(),\n",
        "                             table_name='hw_people',\n",
        "                             write_disposition='replace')\n",
        "\n",
        "print(info)"
      ]
    },
    {
      "cell_type": "code",
      "execution_count": 5,
      "metadata": {},
      "outputs": [
        {
          "name": "stdout",
          "output_type": "stream",
          "text": [
            "Loaded tables: \n"
          ]
        },
        {
          "data": {
            "text/plain": [
              "┌─────────────────────┐\n",
              "│        name         │\n",
              "│       varchar       │\n",
              "├─────────────────────┤\n",
              "│ _dlt_loads          │\n",
              "│ _dlt_pipeline_state │\n",
              "│ _dlt_version        │\n",
              "│ hw_people           │\n",
              "└─────────────────────┘"
            ]
          },
          "metadata": {},
          "output_type": "display_data"
        },
        {
          "name": "stdout",
          "output_type": "stream",
          "text": [
            "\n",
            "\n",
            "\n",
            " hw_people table below:\n"
          ]
        },
        {
          "data": {
            "text/html": [
              "<div>\n",
              "<style scoped>\n",
              "    .dataframe tbody tr th:only-of-type {\n",
              "        vertical-align: middle;\n",
              "    }\n",
              "\n",
              "    .dataframe tbody tr th {\n",
              "        vertical-align: top;\n",
              "    }\n",
              "\n",
              "    .dataframe thead th {\n",
              "        text-align: right;\n",
              "    }\n",
              "</style>\n",
              "<table border=\"1\" class=\"dataframe\">\n",
              "  <thead>\n",
              "    <tr style=\"text-align: right;\">\n",
              "      <th></th>\n",
              "      <th>sum(age)</th>\n",
              "    </tr>\n",
              "  </thead>\n",
              "  <tbody>\n",
              "    <tr>\n",
              "      <th>0</th>\n",
              "      <td>140.0</td>\n",
              "    </tr>\n",
              "  </tbody>\n",
              "</table>\n",
              "</div>"
            ],
            "text/plain": [
              "   sum(age)\n",
              "0     140.0"
            ]
          },
          "metadata": {},
          "output_type": "display_data"
        }
      ],
      "source": [
        "# show outcome\n",
        "\n",
        "import duckdb\n",
        "\n",
        "conn = duckdb.connect(f\"{hw_generator_pipeline.pipeline_name}.duckdb\")\n",
        "\n",
        "# let's see the tables\n",
        "conn.sql(f\"SET search_path = '{hw_generator_pipeline.dataset_name}'\")\n",
        "print('Loaded tables: ')\n",
        "display(conn.sql(\"show tables\"))\n",
        "\n",
        "# and the data\n",
        "\n",
        "print(\"\\n\\n\\n hw_people table below:\")\n",
        "\n",
        "people = conn.sql(\"SELECT SUM(age) FROM hw_people\").df()\n",
        "display(people)"
      ]
    },
    {
      "cell_type": "code",
      "execution_count": 6,
      "metadata": {},
      "outputs": [
        {
          "name": "stdout",
          "output_type": "stream",
          "text": [
            "Pipeline dlt_ipykernel_launcher load step completed in 0.26 seconds\n",
            "1 load package(s) were loaded to destination duckdb and into dataset hw_generators\n",
            "The duckdb destination used duckdb:///c:\\Users\\rcata\\Desktop\\DataEngineeringZoomCamp\\data-engineering-zoomcamp\\cohorts\\2024\\workshops\\dlt_resources\\dlt_ipykernel_launcher.duckdb location to store data\n",
            "Load package 1708043966.8200397 is LOADED and contains no failed jobs\n"
          ]
        }
      ],
      "source": [
        "hw_generator_pipeline = dlt.pipeline(destination='duckdb', dataset_name='hw_generators')\n",
        "\n",
        "info = hw_generator_pipeline.run(people_2(),\n",
        "                             table_name='hw_people',\n",
        "                             write_disposition='append')\n",
        "\n",
        "print(info)"
      ]
    },
    {
      "cell_type": "code",
      "execution_count": 7,
      "metadata": {},
      "outputs": [
        {
          "name": "stdout",
          "output_type": "stream",
          "text": [
            "Loaded tables: \n"
          ]
        },
        {
          "data": {
            "text/plain": [
              "┌─────────────────────┐\n",
              "│        name         │\n",
              "│       varchar       │\n",
              "├─────────────────────┤\n",
              "│ _dlt_loads          │\n",
              "│ _dlt_pipeline_state │\n",
              "│ _dlt_version        │\n",
              "│ hw_people           │\n",
              "└─────────────────────┘"
            ]
          },
          "metadata": {},
          "output_type": "display_data"
        },
        {
          "name": "stdout",
          "output_type": "stream",
          "text": [
            "\n",
            "\n",
            "\n",
            " hw_people table below:\n"
          ]
        },
        {
          "data": {
            "text/html": [
              "<div>\n",
              "<style scoped>\n",
              "    .dataframe tbody tr th:only-of-type {\n",
              "        vertical-align: middle;\n",
              "    }\n",
              "\n",
              "    .dataframe tbody tr th {\n",
              "        vertical-align: top;\n",
              "    }\n",
              "\n",
              "    .dataframe thead th {\n",
              "        text-align: right;\n",
              "    }\n",
              "</style>\n",
              "<table border=\"1\" class=\"dataframe\">\n",
              "  <thead>\n",
              "    <tr style=\"text-align: right;\">\n",
              "      <th></th>\n",
              "      <th>sum(age)</th>\n",
              "    </tr>\n",
              "  </thead>\n",
              "  <tbody>\n",
              "    <tr>\n",
              "      <th>0</th>\n",
              "      <td>353.0</td>\n",
              "    </tr>\n",
              "  </tbody>\n",
              "</table>\n",
              "</div>"
            ],
            "text/plain": [
              "   sum(age)\n",
              "0     353.0"
            ]
          },
          "metadata": {},
          "output_type": "display_data"
        }
      ],
      "source": [
        "conn = duckdb.connect(f\"{hw_generator_pipeline.pipeline_name}.duckdb\")\n",
        "\n",
        "# let's see the tables\n",
        "conn.sql(f\"SET search_path = '{hw_generator_pipeline.dataset_name}'\")\n",
        "print('Loaded tables: ')\n",
        "display(conn.sql(\"show tables\"))\n",
        "\n",
        "# and the data\n",
        "\n",
        "print(\"\\n\\n\\n hw_people table below:\")\n",
        "\n",
        "people = conn.sql(\"SELECT SUM(age) FROM hw_people\").df()\n",
        "display(people)"
      ]
    },
    {
      "cell_type": "markdown",
      "metadata": {
        "id": "vtdTIm4fvQCN"
      },
      "source": [
        "The sum of the people_1 generator is 140, for the sum of both the sum of the age is **353**"
      ]
    },
    {
      "cell_type": "markdown",
      "metadata": {
        "id": "pY4cFAWOSwN1"
      },
      "source": [
        "# 3. Merge a generator\n",
        "\n",
        "Re-use the generators from Exercise 2.\n",
        "\n",
        "A table's primary key needs to be created from the start, so load your data to a new table with primary key ID.\n",
        "\n",
        "Load your first generator first, and then load the second one with merge. Since they have overlapping IDs, some of the records from the first load should be replaced by the ones from the second load.\n",
        "\n",
        "After loading, you should have a total of 8 records, and ID 3 should have age 33.\n",
        "\n",
        "Question: **Calculate the sum of ages of all the people loaded as described above.**\n"
      ]
    },
    {
      "cell_type": "markdown",
      "metadata": {
        "id": "kKB2GTB9oVjr"
      },
      "source": [
        "# Solution: First make sure that the following modules are installed:"
      ]
    },
    {
      "cell_type": "code",
      "execution_count": 9,
      "metadata": {
        "id": "xTVvtyqrfVNq"
      },
      "outputs": [
        {
          "name": "stdout",
          "output_type": "stream",
          "text": [
            "Requirement already satisfied: dlt[duckdb] in c:\\users\\rcata\\anaconda3\\envs\\de_zoomcamp\\lib\\site-packages (0.4.4)\n",
            "Requirement already satisfied: PyYAML>=5.4.1 in c:\\users\\rcata\\anaconda3\\envs\\de_zoomcamp\\lib\\site-packages (from dlt[duckdb]) (6.0.1)\n",
            "Requirement already satisfied: SQLAlchemy>=1.4.0 in c:\\users\\rcata\\anaconda3\\envs\\de_zoomcamp\\lib\\site-packages (from dlt[duckdb]) (2.0.26)\n",
            "Requirement already satisfied: astunparse>=1.6.3 in c:\\users\\rcata\\anaconda3\\envs\\de_zoomcamp\\lib\\site-packages (from dlt[duckdb]) (1.6.3)\n",
            "Requirement already satisfied: click>=7.1 in c:\\users\\rcata\\anaconda3\\envs\\de_zoomcamp\\lib\\site-packages (from dlt[duckdb]) (8.1.7)\n",
            "Requirement already satisfied: fsspec>=2022.4.0 in c:\\users\\rcata\\anaconda3\\envs\\de_zoomcamp\\lib\\site-packages (from dlt[duckdb]) (2024.2.0)\n",
            "Requirement already satisfied: gitpython>=3.1.29 in c:\\users\\rcata\\anaconda3\\envs\\de_zoomcamp\\lib\\site-packages (from dlt[duckdb]) (3.1.41)\n",
            "Requirement already satisfied: giturlparse>=0.10.0 in c:\\users\\rcata\\anaconda3\\envs\\de_zoomcamp\\lib\\site-packages (from dlt[duckdb]) (0.12.0)\n",
            "Requirement already satisfied: hexbytes>=0.2.2 in c:\\users\\rcata\\anaconda3\\envs\\de_zoomcamp\\lib\\site-packages (from dlt[duckdb]) (1.0.0)\n",
            "Requirement already satisfied: humanize>=4.4.0 in c:\\users\\rcata\\anaconda3\\envs\\de_zoomcamp\\lib\\site-packages (from dlt[duckdb]) (4.9.0)\n",
            "Requirement already satisfied: jsonpath-ng>=1.5.3 in c:\\users\\rcata\\anaconda3\\envs\\de_zoomcamp\\lib\\site-packages (from dlt[duckdb]) (1.6.1)\n",
            "Requirement already satisfied: makefun>=1.15.0 in c:\\users\\rcata\\anaconda3\\envs\\de_zoomcamp\\lib\\site-packages (from dlt[duckdb]) (1.15.2)\n",
            "Requirement already satisfied: orjson<=3.9.10,>=3.6.7 in c:\\users\\rcata\\anaconda3\\envs\\de_zoomcamp\\lib\\site-packages (from dlt[duckdb]) (3.9.10)\n",
            "Requirement already satisfied: packaging>=21.1 in c:\\users\\rcata\\anaconda3\\envs\\de_zoomcamp\\lib\\site-packages (from dlt[duckdb]) (23.2)\n",
            "Requirement already satisfied: pathvalidate>=2.5.2 in c:\\users\\rcata\\anaconda3\\envs\\de_zoomcamp\\lib\\site-packages (from dlt[duckdb]) (3.2.0)\n",
            "Requirement already satisfied: pendulum>=2.1.2 in c:\\users\\rcata\\anaconda3\\envs\\de_zoomcamp\\lib\\site-packages (from dlt[duckdb]) (3.0.0)\n",
            "Requirement already satisfied: pytz>=2022.6 in c:\\users\\rcata\\anaconda3\\envs\\de_zoomcamp\\lib\\site-packages (from dlt[duckdb]) (2024.1)\n",
            "Requirement already satisfied: requests>=2.26.0 in c:\\users\\rcata\\anaconda3\\envs\\de_zoomcamp\\lib\\site-packages (from dlt[duckdb]) (2.31.0)\n",
            "Requirement already satisfied: requirements-parser>=0.5.0 in c:\\users\\rcata\\anaconda3\\envs\\de_zoomcamp\\lib\\site-packages (from dlt[duckdb]) (0.5.0)\n",
            "Requirement already satisfied: semver>=2.13.0 in c:\\users\\rcata\\anaconda3\\envs\\de_zoomcamp\\lib\\site-packages (from dlt[duckdb]) (3.0.2)\n",
            "Requirement already satisfied: setuptools>=65.6.0 in c:\\users\\rcata\\anaconda3\\envs\\de_zoomcamp\\lib\\site-packages (from dlt[duckdb]) (69.0.3)\n",
            "Requirement already satisfied: simplejson>=3.17.5 in c:\\users\\rcata\\anaconda3\\envs\\de_zoomcamp\\lib\\site-packages (from dlt[duckdb]) (3.19.2)\n",
            "Requirement already satisfied: tenacity>=8.0.2 in c:\\users\\rcata\\anaconda3\\envs\\de_zoomcamp\\lib\\site-packages (from dlt[duckdb]) (8.2.3)\n",
            "Requirement already satisfied: tomlkit>=0.11.3 in c:\\users\\rcata\\anaconda3\\envs\\de_zoomcamp\\lib\\site-packages (from dlt[duckdb]) (0.12.3)\n",
            "Requirement already satisfied: typing-extensions>=4.0.0 in c:\\users\\rcata\\anaconda3\\envs\\de_zoomcamp\\lib\\site-packages (from dlt[duckdb]) (4.9.0)\n",
            "Requirement already satisfied: tzdata>=2022.1 in c:\\users\\rcata\\anaconda3\\envs\\de_zoomcamp\\lib\\site-packages (from dlt[duckdb]) (2024.1)\n",
            "Requirement already satisfied: win-precise-time>=1.4.2 in c:\\users\\rcata\\anaconda3\\envs\\de_zoomcamp\\lib\\site-packages (from dlt[duckdb]) (1.4.2)\n",
            "Requirement already satisfied: duckdb<0.10.0,>=0.6.1 in c:\\users\\rcata\\anaconda3\\envs\\de_zoomcamp\\lib\\site-packages (from dlt[duckdb]) (0.9.2)\n",
            "Requirement already satisfied: wheel<1.0,>=0.23.0 in c:\\users\\rcata\\anaconda3\\envs\\de_zoomcamp\\lib\\site-packages (from astunparse>=1.6.3->dlt[duckdb]) (0.42.0)\n",
            "Requirement already satisfied: six<2.0,>=1.6.1 in c:\\users\\rcata\\anaconda3\\envs\\de_zoomcamp\\lib\\site-packages (from astunparse>=1.6.3->dlt[duckdb]) (1.16.0)\n",
            "Requirement already satisfied: colorama in c:\\users\\rcata\\anaconda3\\envs\\de_zoomcamp\\lib\\site-packages (from click>=7.1->dlt[duckdb]) (0.4.6)\n",
            "Requirement already satisfied: gitdb<5,>=4.0.1 in c:\\users\\rcata\\anaconda3\\envs\\de_zoomcamp\\lib\\site-packages (from gitpython>=3.1.29->dlt[duckdb]) (4.0.11)\n",
            "Requirement already satisfied: ply in c:\\users\\rcata\\anaconda3\\envs\\de_zoomcamp\\lib\\site-packages (from jsonpath-ng>=1.5.3->dlt[duckdb]) (3.11)\n",
            "Requirement already satisfied: python-dateutil>=2.6 in c:\\users\\rcata\\anaconda3\\envs\\de_zoomcamp\\lib\\site-packages (from pendulum>=2.1.2->dlt[duckdb]) (2.8.2)\n",
            "Requirement already satisfied: time-machine>=2.6.0 in c:\\users\\rcata\\anaconda3\\envs\\de_zoomcamp\\lib\\site-packages (from pendulum>=2.1.2->dlt[duckdb]) (2.13.0)\n",
            "Requirement already satisfied: charset-normalizer<4,>=2 in c:\\users\\rcata\\anaconda3\\envs\\de_zoomcamp\\lib\\site-packages (from requests>=2.26.0->dlt[duckdb]) (3.3.2)\n",
            "Requirement already satisfied: idna<4,>=2.5 in c:\\users\\rcata\\anaconda3\\envs\\de_zoomcamp\\lib\\site-packages (from requests>=2.26.0->dlt[duckdb]) (3.6)\n",
            "Requirement already satisfied: urllib3<3,>=1.21.1 in c:\\users\\rcata\\anaconda3\\envs\\de_zoomcamp\\lib\\site-packages (from requests>=2.26.0->dlt[duckdb]) (2.2.0)\n",
            "Requirement already satisfied: certifi>=2017.4.17 in c:\\users\\rcata\\anaconda3\\envs\\de_zoomcamp\\lib\\site-packages (from requests>=2.26.0->dlt[duckdb]) (2024.2.2)\n",
            "Requirement already satisfied: types-setuptools>=57.0.0 in c:\\users\\rcata\\anaconda3\\envs\\de_zoomcamp\\lib\\site-packages (from requirements-parser>=0.5.0->dlt[duckdb]) (69.0.0.20240125)\n",
            "Requirement already satisfied: greenlet!=0.4.17 in c:\\users\\rcata\\anaconda3\\envs\\de_zoomcamp\\lib\\site-packages (from SQLAlchemy>=1.4.0->dlt[duckdb]) (3.0.3)\n",
            "Requirement already satisfied: smmap<6,>=3.0.1 in c:\\users\\rcata\\anaconda3\\envs\\de_zoomcamp\\lib\\site-packages (from gitdb<5,>=4.0.1->gitpython>=3.1.29->dlt[duckdb]) (5.0.1)\n"
          ]
        }
      ],
      "source": [
        "#Install the dependencies\n",
        "\n",
        "!pip install dlt[duckdb]"
      ]
    },
    {
      "cell_type": "code",
      "execution_count": 15,
      "metadata": {
        "id": "a2-PRBAkGC2K"
      },
      "outputs": [
        {
          "name": "stdout",
          "output_type": "stream",
          "text": [
            "Pipeline dlt_ipykernel_launcher load step completed in 0.56 seconds\n",
            "1 load package(s) were loaded to destination duckdb and into dataset hw_generators_3\n",
            "The duckdb destination used duckdb:///c:\\Users\\rcata\\Desktop\\DataEngineeringZoomCamp\\data-engineering-zoomcamp\\cohorts\\2024\\workshops\\dlt_resources\\dlt_ipykernel_launcher.duckdb location to store data\n",
            "Load package 1708044288.7035348 is LOADED and contains no failed jobs\n"
          ]
        }
      ],
      "source": [
        "# to do: homework :)\n",
        "import dlt \n",
        "\n",
        "hw_generator_pipeline = dlt.pipeline(destination='duckdb', dataset_name='hw_generators_3')\n",
        "\n",
        "info = hw_generator_pipeline.run(people_1(),\n",
        "                             table_name='hw_people_3',\n",
        "                             write_disposition='merge', primary_key='ID')\n",
        "\n",
        "print(info)\n"
      ]
    },
    {
      "cell_type": "code",
      "execution_count": 16,
      "metadata": {},
      "outputs": [
        {
          "name": "stdout",
          "output_type": "stream",
          "text": [
            "Loaded tables: \n"
          ]
        },
        {
          "data": {
            "text/plain": [
              "┌─────────────────────┐\n",
              "│        name         │\n",
              "│       varchar       │\n",
              "├─────────────────────┤\n",
              "│ _dlt_loads          │\n",
              "│ _dlt_pipeline_state │\n",
              "│ _dlt_version        │\n",
              "│ hw_people_3         │\n",
              "└─────────────────────┘"
            ]
          },
          "metadata": {},
          "output_type": "display_data"
        },
        {
          "name": "stdout",
          "output_type": "stream",
          "text": [
            "\n",
            "\n",
            "\n",
            " hw_people table below:\n"
          ]
        },
        {
          "data": {
            "text/html": [
              "<div>\n",
              "<style scoped>\n",
              "    .dataframe tbody tr th:only-of-type {\n",
              "        vertical-align: middle;\n",
              "    }\n",
              "\n",
              "    .dataframe tbody tr th {\n",
              "        vertical-align: top;\n",
              "    }\n",
              "\n",
              "    .dataframe thead th {\n",
              "        text-align: right;\n",
              "    }\n",
              "</style>\n",
              "<table border=\"1\" class=\"dataframe\">\n",
              "  <thead>\n",
              "    <tr style=\"text-align: right;\">\n",
              "      <th></th>\n",
              "      <th>sum(age)</th>\n",
              "    </tr>\n",
              "  </thead>\n",
              "  <tbody>\n",
              "    <tr>\n",
              "      <th>0</th>\n",
              "      <td>140.0</td>\n",
              "    </tr>\n",
              "  </tbody>\n",
              "</table>\n",
              "</div>"
            ],
            "text/plain": [
              "   sum(age)\n",
              "0     140.0"
            ]
          },
          "metadata": {},
          "output_type": "display_data"
        }
      ],
      "source": [
        "# show outcome\n",
        "\n",
        "\n",
        "conn = duckdb.connect(f\"{hw_generator_pipeline.pipeline_name}.duckdb\")\n",
        "\n",
        "# let's see the tables\n",
        "conn.sql(f\"SET search_path = '{hw_generator_pipeline.dataset_name}'\")\n",
        "print('Loaded tables: ')\n",
        "display(conn.sql(\"show tables\"))\n",
        "\n",
        "# and the data\n",
        "\n",
        "print(\"\\n\\n\\n hw_people table below:\")\n",
        "\n",
        "people = conn.sql(\"SELECT SUM(age) FROM hw_people_3\").df()\n",
        "display(people)"
      ]
    },
    {
      "cell_type": "code",
      "execution_count": 17,
      "metadata": {},
      "outputs": [
        {
          "name": "stdout",
          "output_type": "stream",
          "text": [
            "Pipeline dlt_ipykernel_launcher load step completed in 0.58 seconds\n",
            "1 load package(s) were loaded to destination duckdb and into dataset hw_generators_3\n",
            "The duckdb destination used duckdb:///c:\\Users\\rcata\\Desktop\\DataEngineeringZoomCamp\\data-engineering-zoomcamp\\cohorts\\2024\\workshops\\dlt_resources\\dlt_ipykernel_launcher.duckdb location to store data\n",
            "Load package 1708044361.9757807 is LOADED and contains no failed jobs\n"
          ]
        }
      ],
      "source": [
        "hw_generator_pipeline = dlt.pipeline(destination='duckdb', dataset_name='hw_generators_3')\n",
        "\n",
        "info = hw_generator_pipeline.run(people_2(),\n",
        "                             table_name='hw_people_3',\n",
        "                             write_disposition='merge', primary_key='ID')\n",
        "\n",
        "print(info)"
      ]
    },
    {
      "cell_type": "code",
      "execution_count": 20,
      "metadata": {},
      "outputs": [
        {
          "name": "stdout",
          "output_type": "stream",
          "text": [
            "Loaded tables: \n"
          ]
        },
        {
          "data": {
            "text/plain": [
              "┌─────────────────────┐\n",
              "│        name         │\n",
              "│       varchar       │\n",
              "├─────────────────────┤\n",
              "│ _dlt_loads          │\n",
              "│ _dlt_pipeline_state │\n",
              "│ _dlt_version        │\n",
              "│ hw_people_3         │\n",
              "└─────────────────────┘"
            ]
          },
          "metadata": {},
          "output_type": "display_data"
        },
        {
          "name": "stdout",
          "output_type": "stream",
          "text": [
            "\n",
            "\n",
            "\n",
            " hw_people table below:\n"
          ]
        },
        {
          "data": {
            "text/html": [
              "<div>\n",
              "<style scoped>\n",
              "    .dataframe tbody tr th:only-of-type {\n",
              "        vertical-align: middle;\n",
              "    }\n",
              "\n",
              "    .dataframe tbody tr th {\n",
              "        vertical-align: top;\n",
              "    }\n",
              "\n",
              "    .dataframe thead th {\n",
              "        text-align: right;\n",
              "    }\n",
              "</style>\n",
              "<table border=\"1\" class=\"dataframe\">\n",
              "  <thead>\n",
              "    <tr style=\"text-align: right;\">\n",
              "      <th></th>\n",
              "      <th>sum(age)</th>\n",
              "    </tr>\n",
              "  </thead>\n",
              "  <tbody>\n",
              "    <tr>\n",
              "      <th>0</th>\n",
              "      <td>266.0</td>\n",
              "    </tr>\n",
              "  </tbody>\n",
              "</table>\n",
              "</div>"
            ],
            "text/plain": [
              "   sum(age)\n",
              "0     266.0"
            ]
          },
          "metadata": {},
          "output_type": "display_data"
        }
      ],
      "source": [
        "conn = duckdb.connect(f\"{hw_generator_pipeline.pipeline_name}.duckdb\")\n",
        "\n",
        "# let's see the tables\n",
        "conn.sql(f\"SET search_path = '{hw_generator_pipeline.dataset_name}'\")\n",
        "print('Loaded tables: ')\n",
        "display(conn.sql(\"show tables\"))\n",
        "\n",
        "# and the data\n",
        "\n",
        "print(\"\\n\\n\\n hw_people table below:\")\n",
        "\n",
        "people = conn.sql(\"SELECT SUM(age) FROM hw_people_3\").df()\n",
        "display(people)"
      ]
    },
    {
      "cell_type": "markdown",
      "metadata": {
        "id": "PoTJu4kbGG0z"
      },
      "source": [
        "Questions? difficulties? We are here to help.\n",
        "- DTC data engineering course channel: https://datatalks-club.slack.com/archives/C01FABYF2RG\n",
        "- dlt's DTC cohort channel: https://dlthub-community.slack.com/archives/C06GAEX2VNX"
      ]
    }
  ],
  "metadata": {
    "colab": {
      "provenance": []
    },
    "kernelspec": {
      "display_name": "Python 3",
      "name": "python3"
    },
    "language_info": {
      "codemirror_mode": {
        "name": "ipython",
        "version": 3
      },
      "file_extension": ".py",
      "mimetype": "text/x-python",
      "name": "python",
      "nbconvert_exporter": "python",
      "pygments_lexer": "ipython3",
      "version": "3.10.13"
    }
  },
  "nbformat": 4,
  "nbformat_minor": 0
}
